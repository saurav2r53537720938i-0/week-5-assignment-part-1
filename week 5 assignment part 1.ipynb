{
 "cells": [
  {
   "cell_type": "markdown",
   "id": "96a0b8bc-fc17-4c39-85e5-a99b2c717536",
   "metadata": {},
   "source": [
    "In python an exception is an abnormal event that occurs during the exceution of a program disrupting the normal flow of instruction. when an exception \n",
    "occurs,the interpreter raises the exception and looks for an appropriate exception handler to deal with it "
   ]
  },
  {
   "cell_type": "markdown",
   "id": "e0c9b75c-038e-4b4d-8562-cec679a93e36",
   "metadata": {},
   "source": [
    "A syntax error on the other hand is a type of error that occurs when the interpreter encounters invalid python code,such as a type or a mistake in the \n",
    "structure of the code such as a typo or misuse of syntax element.unlike exception which occur during runtime,syntax errors prevent the code from being\n",
    "successfully compiled or interpreted."
   ]
  },
  {
   "cell_type": "markdown",
   "id": "5f19a563-ff80-403b-a601-c82857a9d5bd",
   "metadata": {},
   "source": [
    "In summary, exception are runtime errors that disrupt the normal exceution of a program , while syntax error are mistake in the code's structure \n",
    "that prevent it from being parsed or compiled correctly."
   ]
  },
  {
   "cell_type": "markdown",
   "id": "c57bd6a2-6f32-42f9-8352-ba60ed228839",
   "metadata": {},
   "source": [
    "When an exception is not handled in python it leads to the termination of the program and an error message is displayed,revealing details about the unhandled exception."
   ]
  },
  {
   "cell_type": "code",
   "execution_count": null,
   "id": "20eeef55-04ad-49e2-a6cf-81461bf59aca",
   "metadata": {},
   "outputs": [],
   "source": [
    "try:\n",
    "    num1 = int(input(\"Enter a numerator: \"))\n",
    "    num2 = int(input(\"Enter a denominator: \"))\n",
    "    result = num1/num2\n",
    "    print(\"Result:\",result)\n",
    "    \n",
    "except ValueError:\n",
    "    print(\"please enter valid integers for numerator and denominator.\")"
   ]
  },
  {
   "cell_type": "code",
   "execution_count": null,
   "id": "012857c1-b37f-45d7-b401-1fd1cfd69b82",
   "metadata": {},
   "outputs": [],
   "source": [
    "try:\n",
    "    #code that might raise an exception\n",
    "    num1 = int(input(\"Enter a number: \"))\n",
    "    num2 = int(input(\"Enter another number: \"))\n",
    "    result = num1/num2\n",
    "    \n",
    "except ValueError:\n",
    "    # Handle the exception for invalid input (non-numeric)\n",
    "    print(\"Invalid input. Please enter a valid number.\")\n",
    "    \n",
    "except zeroDivisionError:\n",
    "    # Handle the exception for division by zero\n",
    "    print(\"Cannot divide by zero.\n",
    "          please enter a non-zero second number.\")\n",
    "          \n",
    "    else:\n",
    "          # Code to be exceuted if no exception is raised\n",
    "          print(\"The result of division is \",result)\n",
    "          \n",
    "    finally:\n",
    "          # Code that will be exceuted no matter what , whether there's an exception or not\n",
    "          print(\"Exceution Complte.\")          "
   ]
  },
  {
   "cell_type": "markdown",
   "id": "1a8ecea7-9768-4a90-9fee-f426ae924e00",
   "metadata": {},
   "source": [
    "Try and Else:"
   ]
  },
  {
   "cell_type": "code",
   "execution_count": null,
   "id": "86be26ed-b94a-451e-8b15-8c29936fa3ea",
   "metadata": {},
   "outputs": [],
   "source": [
    "try:\n",
    "    # code that might raise in exception\n",
    "    result = num1/num2\n",
    "except ZeroDivisionError:\n",
    "    print(\"Cannot divide by zero.\")\n",
    "else:\n",
    "    # code to be executed if no expection is raised\n",
    "    print(\"The result of division is :\",result)    "
   ]
  },
  {
   "cell_type": "markdown",
   "id": "58053879-a3bf-43fc-b6a9-cf79554f84f7",
   "metadata": {},
   "source": [
    "finally:"
   ]
  },
  {
   "cell_type": "code",
   "execution_count": null,
   "id": "d74a9d7e-e57c-489d-a903-b65d034a4b0a",
   "metadata": {},
   "outputs": [],
   "source": [
    "try:\n",
    "    # code that might raise an exception\n",
    "    result = num1/num2\n",
    "except ZeroDivisionError:\n",
    "    print(\"Cannot divide by zero.\")\n",
    "Finally:\n",
    "    # Code that will be executed no matter what\n",
    "    print(\"Exceution complte.\")"
   ]
  },
  {
   "cell_type": "markdown",
   "id": "5f419cb2-5ca9-4be1-b6f2-69add87470e2",
   "metadata": {},
   "source": [
    "Raise"
   ]
  },
  {
   "cell_type": "code",
   "execution_count": null,
   "id": "c8bb0b98-174f-4201-9a0d-735ecfd524d2",
   "metadata": {},
   "outputs": [],
   "source": [
    "if result>5:\n",
    "    raise ValueError(\"Resultis too large.\")"
   ]
  },
  {
   "cell_type": "code",
   "execution_count": null,
   "id": "a0c3db1b-ef81-4b7d-abfd-bb0d8cf5749b",
   "metadata": {},
   "outputs": [],
   "source": [
    "class Invalidinput error (Exception):\n",
    "    def __init__(self,input_value):\n",
    "        super().__init__(\"Invalid input: {}\".format(input_value))\n",
    "        self.input_value = input_value\n",
    "        \n",
    "    def process.input(user_input):\n",
    "        try:\n",
    "            if not\n",
    "        user _input.isdigit():\n",
    "            raise"
   ]
  }
 ],
 "metadata": {
  "kernelspec": {
   "display_name": "Python 3 (ipykernel)",
   "language": "python",
   "name": "python3"
  },
  "language_info": {
   "codemirror_mode": {
    "name": "ipython",
    "version": 3
   },
   "file_extension": ".py",
   "mimetype": "text/x-python",
   "name": "python",
   "nbconvert_exporter": "python",
   "pygments_lexer": "ipython3",
   "version": "3.10.8"
  }
 },
 "nbformat": 4,
 "nbformat_minor": 5
}
